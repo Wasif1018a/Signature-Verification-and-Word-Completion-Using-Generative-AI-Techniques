{
 "cells": [
  {
   "cell_type": "markdown",
   "metadata": {},
   "source": [
    "# Question # 1  CNN Implementation:"
   ]
  },
  {
   "cell_type": "code",
   "execution_count": 1,
   "metadata": {
    "execution": {
     "iopub.execute_input": "2025-03-16T18:42:35.832345Z",
     "iopub.status.busy": "2025-03-16T18:42:35.832071Z",
     "iopub.status.idle": "2025-03-16T18:44:30.679871Z",
     "shell.execute_reply": "2025-03-16T18:44:30.679103Z",
     "shell.execute_reply.started": "2025-03-16T18:42:35.832316Z"
    },
    "trusted": true
   },
   "outputs": [
    {
     "name": "stderr",
     "output_type": "stream",
     "text": [
      "<ipython-input-1-fd97352d5b8d>:17: FutureWarning: Series.__getitem__ treating keys as positions is deprecated. In a future version, integer keys will always be treated as labels (consistent with DataFrame behavior). To access a value by position, use `ser.iloc[pos]`\n",
      "  img_path = '/kaggle/input/signature-verification-dataset/sign_data/train/' + row[0]\n"
     ]
    }
   ],
   "source": [
    "import pandas as pd\n",
    "import numpy as np\n",
    "import cv2\n",
    "import os\n",
    "from tensorflow.keras.models import Sequential\n",
    "from tensorflow.keras.layers import Conv2D, MaxPooling2D, Flatten, Dense, Dropout\n",
    "from tensorflow.keras.utils import to_categorical\n",
    "from sklearn.model_selection import train_test_split\n",
    "\n",
    "\n",
    "df_train = pd.read_csv('/kaggle/input/signature-verification-dataset/sign_data/train_data.csv')\n",
    "images = []\n",
    "labels = []\n",
    "\n",
    "# Pre-Processing\n",
    "for index, row in df_train.iterrows():\n",
    "    img_path = '/kaggle/input/signature-verification-dataset/sign_data/train/' + row[0]  \n",
    "    label = int(os.path.basename(os.path.dirname(img_path)))  \n",
    "    img = cv2.imread(img_path, cv2.IMREAD_GRAYSCALE) \n",
    "    img = cv2.resize(img, (128, 128))  \n",
    "    images.append(img)\n",
    "    labels.append(label)\n",
    "\n",
    "\n",
    "X = np.array(images).reshape(-1, 128, 128, 1) / 255.0  \n",
    "y = to_categorical(np.array(labels))  \n",
    "\n",
    "X_train, X_val, y_train, y_val = train_test_split(X, y, test_size=0.2, random_state=42)"
   ]
  },
  {
   "cell_type": "code",
   "execution_count": 8,
   "metadata": {
    "execution": {
     "iopub.execute_input": "2025-03-16T09:25:05.319199Z",
     "iopub.status.busy": "2025-03-16T09:25:05.318861Z",
     "iopub.status.idle": "2025-03-16T09:27:45.941651Z",
     "shell.execute_reply": "2025-03-16T09:27:45.940902Z",
     "shell.execute_reply.started": "2025-03-16T09:25:05.319175Z"
    },
    "trusted": true
   },
   "outputs": [
    {
     "name": "stdout",
     "output_type": "stream",
     "text": [
      "Epoch 1/20\n",
      "\u001b[1m581/581\u001b[0m \u001b[32m━━━━━━━━━━━━━━━━━━━━\u001b[0m\u001b[37m\u001b[0m \u001b[1m13s\u001b[0m 19ms/step - accuracy: 0.2623 - loss: 3.0458 - val_accuracy: 0.9914 - val_loss: 0.1581\n",
      "Epoch 2/20\n",
      "\u001b[1m581/581\u001b[0m \u001b[32m━━━━━━━━━━━━━━━━━━━━\u001b[0m\u001b[37m\u001b[0m \u001b[1m8s\u001b[0m 13ms/step - accuracy: 0.6932 - loss: 0.8987 - val_accuracy: 0.9994 - val_loss: 0.0243\n",
      "Epoch 3/20\n",
      "\u001b[1m581/581\u001b[0m \u001b[32m━━━━━━━━━━━━━━━━━━━━\u001b[0m\u001b[37m\u001b[0m \u001b[1m8s\u001b[0m 13ms/step - accuracy: 0.7363 - loss: 0.7656 - val_accuracy: 1.0000 - val_loss: 0.0130\n",
      "Epoch 4/20\n",
      "\u001b[1m581/581\u001b[0m \u001b[32m━━━━━━━━━━━━━━━━━━━━\u001b[0m\u001b[37m\u001b[0m \u001b[1m8s\u001b[0m 13ms/step - accuracy: 0.7504 - loss: 0.7013 - val_accuracy: 0.9991 - val_loss: 0.0091\n",
      "Epoch 5/20\n",
      "\u001b[1m581/581\u001b[0m \u001b[32m━━━━━━━━━━━━━━━━━━━━\u001b[0m\u001b[37m\u001b[0m \u001b[1m8s\u001b[0m 13ms/step - accuracy: 0.7607 - loss: 0.6564 - val_accuracy: 1.0000 - val_loss: 0.0047\n",
      "Epoch 6/20\n",
      "\u001b[1m581/581\u001b[0m \u001b[32m━━━━━━━━━━━━━━━━━━━━\u001b[0m\u001b[37m\u001b[0m \u001b[1m8s\u001b[0m 13ms/step - accuracy: 0.7773 - loss: 0.6199 - val_accuracy: 0.9987 - val_loss: 0.0059\n",
      "Epoch 7/20\n",
      "\u001b[1m581/581\u001b[0m \u001b[32m━━━━━━━━━━━━━━━━━━━━\u001b[0m\u001b[37m\u001b[0m \u001b[1m8s\u001b[0m 13ms/step - accuracy: 0.7816 - loss: 0.5986 - val_accuracy: 1.0000 - val_loss: 0.0038\n",
      "Epoch 8/20\n",
      "\u001b[1m581/581\u001b[0m \u001b[32m━━━━━━━━━━━━━━━━━━━━\u001b[0m\u001b[37m\u001b[0m \u001b[1m8s\u001b[0m 13ms/step - accuracy: 0.7863 - loss: 0.5913 - val_accuracy: 0.9989 - val_loss: 0.0044\n",
      "Epoch 9/20\n",
      "\u001b[1m581/581\u001b[0m \u001b[32m━━━━━━━━━━━━━━━━━━━━\u001b[0m\u001b[37m\u001b[0m \u001b[1m8s\u001b[0m 13ms/step - accuracy: 0.7926 - loss: 0.5739 - val_accuracy: 1.0000 - val_loss: 0.0022\n",
      "Epoch 10/20\n",
      "\u001b[1m581/581\u001b[0m \u001b[32m━━━━━━━━━━━━━━━━━━━━\u001b[0m\u001b[37m\u001b[0m \u001b[1m7s\u001b[0m 13ms/step - accuracy: 0.8262 - loss: 0.4725 - val_accuracy: 1.0000 - val_loss: 0.0017\n",
      "Epoch 11/20\n",
      "\u001b[1m581/581\u001b[0m \u001b[32m━━━━━━━━━━━━━━━━━━━━\u001b[0m\u001b[37m\u001b[0m \u001b[1m7s\u001b[0m 13ms/step - accuracy: 0.8435 - loss: 0.4141 - val_accuracy: 1.0000 - val_loss: 8.4911e-04\n",
      "Epoch 12/20\n",
      "\u001b[1m581/581\u001b[0m \u001b[32m━━━━━━━━━━━━━━━━━━━━\u001b[0m\u001b[37m\u001b[0m \u001b[1m8s\u001b[0m 13ms/step - accuracy: 0.8592 - loss: 0.3888 - val_accuracy: 1.0000 - val_loss: 6.8830e-04\n",
      "Epoch 13/20\n",
      "\u001b[1m581/581\u001b[0m \u001b[32m━━━━━━━━━━━━━━━━━━━━\u001b[0m\u001b[37m\u001b[0m \u001b[1m8s\u001b[0m 13ms/step - accuracy: 0.8657 - loss: 0.3667 - val_accuracy: 1.0000 - val_loss: 3.5273e-04\n",
      "Epoch 14/20\n",
      "\u001b[1m581/581\u001b[0m \u001b[32m━━━━━━━━━━━━━━━━━━━━\u001b[0m\u001b[37m\u001b[0m \u001b[1m8s\u001b[0m 13ms/step - accuracy: 0.8671 - loss: 0.3577 - val_accuracy: 1.0000 - val_loss: 1.1418e-04\n",
      "Epoch 15/20\n",
      "\u001b[1m581/581\u001b[0m \u001b[32m━━━━━━━━━━━━━━━━━━━━\u001b[0m\u001b[37m\u001b[0m \u001b[1m8s\u001b[0m 13ms/step - accuracy: 0.8861 - loss: 0.3167 - val_accuracy: 1.0000 - val_loss: 1.0458e-04\n",
      "Epoch 16/20\n",
      "\u001b[1m581/581\u001b[0m \u001b[32m━━━━━━━━━━━━━━━━━━━━\u001b[0m\u001b[37m\u001b[0m \u001b[1m8s\u001b[0m 13ms/step - accuracy: 0.8998 - loss: 0.2701 - val_accuracy: 1.0000 - val_loss: 1.1966e-04\n",
      "Epoch 17/20\n",
      "\u001b[1m581/581\u001b[0m \u001b[32m━━━━━━━━━━━━━━━━━━━━\u001b[0m\u001b[37m\u001b[0m \u001b[1m8s\u001b[0m 13ms/step - accuracy: 0.9051 - loss: 0.2556 - val_accuracy: 1.0000 - val_loss: 1.2271e-04\n",
      "Epoch 18/20\n",
      "\u001b[1m581/581\u001b[0m \u001b[32m━━━━━━━━━━━━━━━━━━━━\u001b[0m\u001b[37m\u001b[0m \u001b[1m8s\u001b[0m 13ms/step - accuracy: 0.9147 - loss: 0.2279 - val_accuracy: 1.0000 - val_loss: 4.9380e-05\n",
      "Epoch 19/20\n",
      "\u001b[1m581/581\u001b[0m \u001b[32m━━━━━━━━━━━━━━━━━━━━\u001b[0m\u001b[37m\u001b[0m \u001b[1m7s\u001b[0m 13ms/step - accuracy: 0.9093 - loss: 0.2368 - val_accuracy: 1.0000 - val_loss: 8.1753e-05\n",
      "Epoch 20/20\n",
      "\u001b[1m581/581\u001b[0m \u001b[32m━━━━━━━━━━━━━━━━━━━━\u001b[0m\u001b[37m\u001b[0m \u001b[1m7s\u001b[0m 13ms/step - accuracy: 0.9263 - loss: 0.2070 - val_accuracy: 1.0000 - val_loss: 2.6730e-05\n"
     ]
    },
    {
     "data": {
      "text/plain": [
       "<keras.src.callbacks.history.History at 0x7c0c545992a0>"
      ]
     },
     "execution_count": 8,
     "metadata": {},
     "output_type": "execute_result"
    }
   ],
   "source": [
    "# CNN Model Architecture\n",
    "model = Sequential([\n",
    "    Conv2D(32, (3, 3), activation='relu', input_shape=(128, 128, 1)),\n",
    "    MaxPooling2D((2, 2)),\n",
    "    Conv2D(64, (3, 3), activation='relu'),\n",
    "    MaxPooling2D((2, 2)),\n",
    "    Flatten(),\n",
    "    Dense(128, activation='relu'),\n",
    "    Dropout(0.5),\n",
    "    Dense(y.shape[1], activation='softmax')\n",
    "])\n",
    "\n",
    "\n",
    "model.compile(optimizer='adam', loss='categorical_crossentropy', metrics=['accuracy'])\n",
    "model.fit(X_train, y_train, epochs=20, validation_data=(X_val, y_val))\n"
   ]
  },
  {
   "cell_type": "code",
   "execution_count": null,
   "metadata": {
    "trusted": true
   },
   "outputs": [],
   "source": []
  },
  {
   "cell_type": "markdown",
   "metadata": {},
   "source": [
    "## Evaluation:"
   ]
  },
  {
   "cell_type": "code",
   "execution_count": 9,
   "metadata": {
    "execution": {
     "iopub.execute_input": "2025-03-16T09:31:21.835955Z",
     "iopub.status.busy": "2025-03-16T09:31:21.835488Z",
     "iopub.status.idle": "2025-03-16T09:31:47.737487Z",
     "shell.execute_reply": "2025-03-16T09:31:47.736529Z",
     "shell.execute_reply.started": "2025-03-16T09:31:21.835926Z"
    },
    "trusted": true
   },
   "outputs": [
    {
     "name": "stderr",
     "output_type": "stream",
     "text": [
      "<ipython-input-9-512c3df1160a>:7: FutureWarning: Series.__getitem__ treating keys as positions is deprecated. In a future version, integer keys will always be treated as labels (consistent with DataFrame behavior). To access a value by position, use `ser.iloc[pos]`\n",
      "  img_path = '/kaggle/input/signature-verification-dataset/sign_data/test/' + row[0]  # assuming the first column contains the image path\n"
     ]
    }
   ],
   "source": [
    "df_test = pd.read_csv('/kaggle/input/signature-verification-dataset/sign_data/test_data.csv')\n",
    "images = []\n",
    "labels = []\n",
    "\n",
    "for index, row in df_test.iterrows():\n",
    "    img_path = '/kaggle/input/signature-verification-dataset/sign_data/test/' + row[0]  \n",
    "    label = int(os.path.basename(os.path.dirname(img_path)))  \n",
    "    img = cv2.imread(img_path, cv2.IMREAD_GRAYSCALE)  \n",
    "    img = cv2.resize(img, (128, 128))  \n",
    "    images.append(img)\n",
    "    labels.append(label)"
   ]
  },
  {
   "cell_type": "code",
   "execution_count": 10,
   "metadata": {
    "execution": {
     "iopub.execute_input": "2025-03-16T09:34:06.142093Z",
     "iopub.status.busy": "2025-03-16T09:34:06.141685Z",
     "iopub.status.idle": "2025-03-16T09:34:06.428404Z",
     "shell.execute_reply": "2025-03-16T09:34:06.427438Z",
     "shell.execute_reply.started": "2025-03-16T09:34:06.142063Z"
    },
    "trusted": true
   },
   "outputs": [],
   "source": [
    "X = np.array(images).reshape(-1, 128, 128, 1) / 255.0  \n",
    "y = to_categorical(np.array(labels)) "
   ]
  },
  {
   "cell_type": "code",
   "execution_count": 11,
   "metadata": {
    "execution": {
     "iopub.execute_input": "2025-03-16T09:35:09.439172Z",
     "iopub.status.busy": "2025-03-16T09:35:09.438801Z",
     "iopub.status.idle": "2025-03-16T09:35:12.056936Z",
     "shell.execute_reply": "2025-03-16T09:35:12.056208Z",
     "shell.execute_reply.started": "2025-03-16T09:35:09.439149Z"
    },
    "trusted": true
   },
   "outputs": [
    {
     "name": "stdout",
     "output_type": "stream",
     "text": [
      "\u001b[1m180/180\u001b[0m \u001b[32m━━━━━━━━━━━━━━━━━━━━\u001b[0m\u001b[37m\u001b[0m \u001b[1m1s\u001b[0m 8ms/step - accuracy: 1.0000 - loss: 7.1848e-05\n",
      "Test Accuracy: 1.0000\n",
      "Test Loss: 0.0001\n"
     ]
    }
   ],
   "source": [
    "test_loss, test_acc = model.evaluate(X, y)\n",
    "print(f\"Test Accuracy: {test_acc:.4f}\")\n",
    "print(f\"Test Loss: {test_loss:.4f}\")"
   ]
  },
  {
   "cell_type": "code",
   "execution_count": 13,
   "metadata": {
    "execution": {
     "iopub.execute_input": "2025-03-16T09:37:19.314148Z",
     "iopub.status.busy": "2025-03-16T09:37:19.313805Z",
     "iopub.status.idle": "2025-03-16T09:37:21.042728Z",
     "shell.execute_reply": "2025-03-16T09:37:21.041861Z",
     "shell.execute_reply.started": "2025-03-16T09:37:19.314120Z"
    },
    "trusted": true
   },
   "outputs": [
    {
     "name": "stdout",
     "output_type": "stream",
     "text": [
      "\u001b[1m180/180\u001b[0m \u001b[32m━━━━━━━━━━━━━━━━━━━━\u001b[0m\u001b[37m\u001b[0m \u001b[1m1s\u001b[0m 3ms/step\n"
     ]
    }
   ],
   "source": [
    "import numpy as np\n",
    "\n",
    "y_pred = model.predict(X)  \n",
    "y_pred_classes = np.argmax(y_pred, axis=1)  \n",
    "y_true = np.argmax(y, axis=1)  \n"
   ]
  },
  {
   "cell_type": "code",
   "execution_count": 17,
   "metadata": {
    "execution": {
     "iopub.execute_input": "2025-03-16T09:38:16.679085Z",
     "iopub.status.busy": "2025-03-16T09:38:16.678714Z",
     "iopub.status.idle": "2025-03-16T09:38:16.697053Z",
     "shell.execute_reply": "2025-03-16T09:38:16.696345Z",
     "shell.execute_reply.started": "2025-03-16T09:38:16.679059Z"
    },
    "trusted": true
   },
   "outputs": [
    {
     "name": "stdout",
     "output_type": "stream",
     "text": [
      "              precision    recall  f1-score   support\n",
      "\n",
      "          49       1.00      1.00      1.00       276\n",
      "          50       1.00      1.00      1.00       276\n",
      "          51       1.00      1.00      1.00       228\n",
      "          52       1.00      1.00      1.00       324\n",
      "          53       1.00      1.00      1.00       324\n",
      "          54       1.00      1.00      1.00       372\n",
      "          55       1.00      1.00      1.00       276\n",
      "          56       1.00      1.00      1.00       228\n",
      "          57       1.00      1.00      1.00       276\n",
      "          58       1.00      1.00      1.00       324\n",
      "          59       1.00      1.00      1.00       228\n",
      "          60       1.00      1.00      1.00       276\n",
      "          61       1.00      1.00      1.00       276\n",
      "          62       1.00      1.00      1.00       276\n",
      "          63       1.00      1.00      1.00       276\n",
      "          64       1.00      1.00      1.00       228\n",
      "          65       1.00      1.00      1.00       228\n",
      "          66       1.00      1.00      1.00       324\n",
      "          67       1.00      1.00      1.00       228\n",
      "          68       1.00      1.00      1.00       227\n",
      "          69       1.00      1.00      1.00       276\n",
      "\n",
      "    accuracy                           1.00      5747\n",
      "   macro avg       1.00      1.00      1.00      5747\n",
      "weighted avg       1.00      1.00      1.00      5747\n",
      "\n"
     ]
    }
   ],
   "source": [
    "from sklearn.metrics import classification_report\n",
    "\n",
    "print(classification_report(y_true, y_pred_classes))"
   ]
  },
  {
   "cell_type": "code",
   "execution_count": 18,
   "metadata": {
    "execution": {
     "iopub.execute_input": "2025-03-16T09:41:16.325695Z",
     "iopub.status.busy": "2025-03-16T09:41:16.325344Z",
     "iopub.status.idle": "2025-03-16T09:41:18.070781Z",
     "shell.execute_reply": "2025-03-16T09:41:18.069934Z",
     "shell.execute_reply.started": "2025-03-16T09:41:16.325668Z"
    },
    "trusted": true
   },
   "outputs": [
    {
     "data": {
      "image/png": "[encoded data removed]",
      "text/plain": [
       "<Figure size 800x600 with 2 Axes>"
      ]
     },
     "metadata": {},
     "output_type": "display_data"
    }
   ],
   "source": [
    "from sklearn.metrics import confusion_matrix\n",
    "import seaborn as sns\n",
    "import matplotlib.pyplot as plt\n",
    "\n",
    "cm = confusion_matrix(y_true, y_pred_classes)\n",
    "\n",
    "plt.figure(figsize=(8, 6))\n",
    "sns.heatmap(cm, annot=True, fmt=\"d\", cmap=\"Blues\")\n",
    "plt.xlabel(\"Predicted Label\")\n",
    "plt.ylabel(\"True Label\")\n",
    "plt.title(\"Confusion Matrix\")\n",
    "plt.show()\n"
   ]
  },
  {
   "cell_type": "code",
   "execution_count": 19,
   "metadata": {
    "execution": {
     "iopub.execute_input": "2025-03-16T09:41:29.673438Z",
     "iopub.status.busy": "2025-03-16T09:41:29.672870Z",
     "iopub.status.idle": "2025-03-16T09:41:29.688004Z",
     "shell.execute_reply": "2025-03-16T09:41:29.686906Z",
     "shell.execute_reply.started": "2025-03-16T09:41:29.673412Z"
    },
    "trusted": true
   },
   "outputs": [
    {
     "name": "stdout",
     "output_type": "stream",
     "text": [
      "Accuracy: 1.0000\n",
      "Precision: 1.0000\n",
      "Recall: 1.0000\n",
      "F1 Score: 1.0000\n"
     ]
    }
   ],
   "source": [
    "from sklearn.metrics import accuracy_score, precision_score, recall_score, f1_score\n",
    "\n",
    "accuracy = accuracy_score(y_true, y_pred_classes)\n",
    "precision = precision_score(y_true, y_pred_classes, average=\"weighted\")\n",
    "recall = recall_score(y_true, y_pred_classes, average=\"weighted\")\n",
    "f1 = f1_score(y_true, y_pred_classes, average=\"weighted\")\n",
    "\n",
    "print(f\"Accuracy: {accuracy:.4f}\")\n",
    "print(f\"Precision: {precision:.4f}\")\n",
    "print(f\"Recall: {recall:.4f}\")\n",
    "print(f\"F1 Score: {f1:.4f}\")\n"
   ]
  },
  {
   "cell_type": "code",
   "execution_count": null,
   "metadata": {
    "trusted": true
   },
   "outputs": [],
   "source": []
  },
  {
   "cell_type": "markdown",
   "metadata": {},
   "source": [
    "## Manual Feature Extraction with HOG and SVM:"
   ]
  },
  {
   "cell_type": "code",
   "execution_count": 20,
   "metadata": {
    "execution": {
     "iopub.execute_input": "2025-03-16T09:43:35.584601Z",
     "iopub.status.busy": "2025-03-16T09:43:35.584230Z",
     "iopub.status.idle": "2025-03-16T09:45:09.400644Z",
     "shell.execute_reply": "2025-03-16T09:45:09.399928Z",
     "shell.execute_reply.started": "2025-03-16T09:43:35.584571Z"
    },
    "trusted": true
   },
   "outputs": [
    {
     "name": "stderr",
     "output_type": "stream",
     "text": [
      "<ipython-input-20-3865f4d79475>:17: FutureWarning: Series.__getitem__ treating keys as positions is deprecated. In a future version, integer keys will always be treated as labels (consistent with DataFrame behavior). To access a value by position, use `ser.iloc[pos]`\n",
      "  img_path = '/kaggle/input/signature-verification-dataset/sign_data/train/' + row[0]  # assuming the first column contains the image path\n"
     ]
    }
   ],
   "source": [
    "import pandas as pd\n",
    "import numpy as np\n",
    "import cv2\n",
    "import os\n",
    "from tensorflow.keras.models import Sequential\n",
    "from tensorflow.keras.layers import Conv2D, MaxPooling2D, Flatten, Dense, Dropout\n",
    "from tensorflow.keras.utils import to_categorical\n",
    "from sklearn.model_selection import train_test_split\n",
    "\n",
    "\n",
    "df_train = pd.read_csv('/kaggle/input/signature-verification-dataset/sign_data/train_data.csv')\n",
    "images = []\n",
    "labels = []\n",
    "\n",
    "# Pre-Processing\n",
    "for index, row in df_train.iterrows():\n",
    "    img_path = '/kaggle/input/signature-verification-dataset/sign_data/train/' + row[0] \n",
    "    label = int(os.path.basename(os.path.dirname(img_path)))  \n",
    "    img = cv2.imread(img_path, cv2.IMREAD_GRAYSCALE)  \n",
    "    img = cv2.resize(img, (128, 128))  \n",
    "    images.append(img)\n",
    "    labels.append(label)\n"
   ]
  },
  {
   "cell_type": "code",
   "execution_count": 21,
   "metadata": {
    "execution": {
     "iopub.execute_input": "2025-03-16T09:45:44.580734Z",
     "iopub.status.busy": "2025-03-16T09:45:44.580404Z",
     "iopub.status.idle": "2025-03-16T09:46:37.358587Z",
     "shell.execute_reply": "2025-03-16T09:46:37.357524Z",
     "shell.execute_reply.started": "2025-03-16T09:45:44.580704Z"
    },
    "trusted": true
   },
   "outputs": [],
   "source": [
    "from skimage.feature import hog\n",
    "from sklearn.svm import SVC\n",
    "from sklearn.metrics import accuracy_score, precision_score, recall_score, f1_score\n",
    "\n",
    "\n",
    "# Extracting HOG features for each image\n",
    "hog_features = []\n",
    "for img in images:\n",
    "    feature = hog(img, pixels_per_cell=(16, 16),\n",
    "                  cells_per_block=(1, 1), feature_vector=True)\n",
    "    hog_features.append(feature)\n",
    "\n",
    "\n",
    "X_features = np.array(hog_features)\n",
    "\n",
    "X_train_feat, X_test_feat, y_train_labels, y_test_labels = train_test_split(X_features, labels, test_size=0.2, random_state=42)\n"
   ]
  },
  {
   "cell_type": "code",
   "execution_count": 22,
   "metadata": {
    "execution": {
     "iopub.execute_input": "2025-03-16T09:47:02.742615Z",
     "iopub.status.busy": "2025-03-16T09:47:02.741946Z",
     "iopub.status.idle": "2025-03-16T09:47:35.675056Z",
     "shell.execute_reply": "2025-03-16T09:47:35.674169Z",
     "shell.execute_reply.started": "2025-03-16T09:47:02.742587Z"
    },
    "trusted": true
   },
   "outputs": [
    {
     "data": {
      "text/html": [
       "<style>#sk-container-id-1 {color: black;background-color: white;}#sk-container-id-1 pre{padding: 0;}#sk-container-id-1 div.sk-toggleable {background-color: white;}#sk-container-id-1 label.sk-toggleable__label {cursor: pointer;display: block;width: 100%;margin-bottom: 0;padding: 0.3em;box-sizing: border-box;text-align: center;}#sk-container-id-1 label.sk-toggleable__label-arrow:before {content: \"▸\";float: left;margin-right: 0.25em;color: #696969;}#sk-container-id-1 label.sk-toggleable__label-arrow:hover:before {color: black;}#sk-container-id-1 div.sk-estimator:hover label.sk-toggleable__label-arrow:before {color: black;}#sk-container-id-1 div.sk-toggleable__content {max-height: 0;max-width: 0;overflow: hidden;text-align: left;background-color: #f0f8ff;}#sk-container-id-1 div.sk-toggleable__content pre {margin: 0.2em;color: black;border-radius: 0.25em;background-color: #f0f8ff;}#sk-container-id-1 input.sk-toggleable__control:checked~div.sk-toggleable__content {max-height: 200px;max-width: 100%;overflow: auto;}#sk-container-id-1 input.sk-toggleable__control:checked~label.sk-toggleable__label-arrow:before {content: \"▾\";}#sk-container-id-1 div.sk-estimator input.sk-toggleable__control:checked~label.sk-toggleable__label {background-color: #d4ebff;}#sk-container-id-1 div.sk-label input.sk-toggleable__control:checked~label.sk-toggleable__label {background-color: #d4ebff;}#sk-container-id-1 input.sk-hidden--visually {border: 0;clip: rect(1px 1px 1px 1px);clip: rect(1px, 1px, 1px, 1px);height: 1px;margin: -1px;overflow: hidden;padding: 0;position: absolute;width: 1px;}#sk-container-id-1 div.sk-estimator {font-family: monospace;background-color: #f0f8ff;border: 1px dotted black;border-radius: 0.25em;box-sizing: border-box;margin-bottom: 0.5em;}#sk-container-id-1 div.sk-estimator:hover {background-color: #d4ebff;}#sk-container-id-1 div.sk-parallel-item::after {content: \"\";width: 100%;border-bottom: 1px solid gray;flex-grow: 1;}#sk-container-id-1 div.sk-label:hover label.sk-toggleable__label {background-color: #d4ebff;}#sk-container-id-1 div.sk-serial::before {content: \"\";position: absolute;border-left: 1px solid gray;box-sizing: border-box;top: 0;bottom: 0;left: 50%;z-index: 0;}#sk-container-id-1 div.sk-serial {display: flex;flex-direction: column;align-items: center;background-color: white;padding-right: 0.2em;padding-left: 0.2em;position: relative;}#sk-container-id-1 div.sk-item {position: relative;z-index: 1;}#sk-container-id-1 div.sk-parallel {display: flex;align-items: stretch;justify-content: center;background-color: white;position: relative;}#sk-container-id-1 div.sk-item::before, #sk-container-id-1 div.sk-parallel-item::before {content: \"\";position: absolute;border-left: 1px solid gray;box-sizing: border-box;top: 0;bottom: 0;left: 50%;z-index: -1;}#sk-container-id-1 div.sk-parallel-item {display: flex;flex-direction: column;z-index: 1;position: relative;background-color: white;}#sk-container-id-1 div.sk-parallel-item:first-child::after {align-self: flex-end;width: 50%;}#sk-container-id-1 div.sk-parallel-item:last-child::after {align-self: flex-start;width: 50%;}#sk-container-id-1 div.sk-parallel-item:only-child::after {width: 0;}#sk-container-id-1 div.sk-dashed-wrapped {border: 1px dashed gray;margin: 0 0.4em 0.5em 0.4em;box-sizing: border-box;padding-bottom: 0.4em;background-color: white;}#sk-container-id-1 div.sk-label label {font-family: monospace;font-weight: bold;display: inline-block;line-height: 1.2em;}#sk-container-id-1 div.sk-label-container {text-align: center;}#sk-container-id-1 div.sk-container {/* jupyter's `normalize.less` sets `[hidden] { display: none; }` but bootstrap.min.css set `[hidden] { display: none !important; }` so we also need the `!important` here to be able to override the default hidden behavior on the sphinx rendered scikit-learn.org. See: https://github.com/scikit-learn/scikit-learn/issues/21755 */display: inline-block !important;position: relative;}#sk-container-id-1 div.sk-text-repr-fallback {display: none;}</style><div id=\"sk-container-id-1\" class=\"sk-top-container\"><div class=\"sk-text-repr-fallback\"><pre>SVC(kernel=&#x27;linear&#x27;, probability=True)</pre><b>In a Jupyter environment, please rerun this cell to show the HTML representation or trust the notebook. <br />On GitHub, the HTML representation is unable to render, please try loading this page with nbviewer.org.</b></div><div class=\"sk-container\" hidden><div class=\"sk-item\"><div class=\"sk-estimator sk-toggleable\"><input class=\"sk-toggleable__control sk-hidden--visually\" id=\"sk-estimator-id-1\" type=\"checkbox\" checked><label for=\"sk-estimator-id-1\" class=\"sk-toggleable__label sk-toggleable__label-arrow\">SVC</label><div class=\"sk-toggleable__content\"><pre>SVC(kernel=&#x27;linear&#x27;, probability=True)</pre></div></div></div></div></div>"
      ],
      "text/plain": [
       "SVC(kernel='linear', probability=True)"
      ]
     },
     "execution_count": 22,
     "metadata": {},
     "output_type": "execute_result"
    }
   ],
   "source": [
    "# Training SVM classifier\n",
    "clf = SVC(kernel='linear', probability=True)\n",
    "clf.fit(X_train_feat, y_train_labels)\n"
   ]
  },
  {
   "cell_type": "markdown",
   "metadata": {},
   "source": [
    "## Evaluation:"
   ]
  },
  {
   "cell_type": "code",
   "execution_count": 23,
   "metadata": {
    "execution": {
     "iopub.execute_input": "2025-03-16T09:48:23.230607Z",
     "iopub.status.busy": "2025-03-16T09:48:23.230244Z",
     "iopub.status.idle": "2025-03-16T09:48:47.710404Z",
     "shell.execute_reply": "2025-03-16T09:48:47.709453Z",
     "shell.execute_reply.started": "2025-03-16T09:48:23.230579Z"
    },
    "trusted": true
   },
   "outputs": [
    {
     "name": "stderr",
     "output_type": "stream",
     "text": [
      "<ipython-input-23-a341129a3222>:7: FutureWarning: Series.__getitem__ treating keys as positions is deprecated. In a future version, integer keys will always be treated as labels (consistent with DataFrame behavior). To access a value by position, use `ser.iloc[pos]`\n",
      "  img_path = '/kaggle/input/signature-verification-dataset/sign_data/test/' + row[0]  # assuming the first column contains the image path\n"
     ]
    }
   ],
   "source": [
    "df_test = pd.read_csv('/kaggle/input/signature-verification-dataset/sign_data/test_data.csv')\n",
    "\n",
    "images = []\n",
    "labels = []\n",
    "\n",
    "for index, row in df_test.iterrows():\n",
    "    img_path = '/kaggle/input/signature-verification-dataset/sign_data/test/' + row[0]  \n",
    "    label = int(os.path.basename(os.path.dirname(img_path)))  \n",
    "    img = cv2.imread(img_path, cv2.IMREAD_GRAYSCALE)  \n",
    "    img = cv2.resize(img, (128, 128))  \n",
    "    images.append(img)\n",
    "    labels.append(label)"
   ]
  },
  {
   "cell_type": "code",
   "execution_count": 24,
   "metadata": {
    "execution": {
     "iopub.execute_input": "2025-03-16T09:48:52.064587Z",
     "iopub.status.busy": "2025-03-16T09:48:52.064197Z",
     "iopub.status.idle": "2025-03-16T09:48:52.338739Z",
     "shell.execute_reply": "2025-03-16T09:48:52.337913Z",
     "shell.execute_reply.started": "2025-03-16T09:48:52.064558Z"
    },
    "trusted": true
   },
   "outputs": [],
   "source": [
    "X = np.array(images).reshape(-1, 128, 128, 1) / 255.0  \n",
    "y = to_categorical(np.array(labels))  "
   ]
  },
  {
   "cell_type": "code",
   "execution_count": 5,
   "metadata": {
    "execution": {
     "iopub.execute_input": "2025-03-16T18:48:48.014571Z",
     "iopub.status.busy": "2025-03-16T18:48:48.014270Z",
     "iopub.status.idle": "2025-03-16T18:48:48.020434Z",
     "shell.execute_reply": "2025-03-16T18:48:48.019788Z",
     "shell.execute_reply.started": "2025-03-16T18:48:48.014550Z"
    },
    "trusted": true
   },
   "outputs": [
    {
     "name": "stdout",
     "output_type": "stream",
     "text": [
      "Manual Feature Extraction with HOG and SVM: Evaluation\n",
      "Accuracy: 0.861\n",
      "Precision: 0.854\n",
      "Recall: 0.86\n",
      "F1 Score: 0.854\n"
     ]
    }
   ],
   "source": [
    "# Predicting and evaluating\n",
    "y_pred = clf.predict(X_test_feat)\n",
    "print(\"Manual Feature Extraction with HOG and SVM: Evaluation\")\n",
    "print(\"Accuracy:\", accuracy_score(y_test_labels, y_pred))\n",
    "print(\"Precision:\", precision_score(y_test_labels, y_pred, average='macro'))\n",
    "print(\"Recall:\", recall_score(y_test_labels, y_pred, average='macro'))\n",
    "print(\"F1 Score:\", f1_score(y_test_labels, y_pred, average='macro'))"
   ]
  },
  {
   "cell_type": "code",
   "execution_count": null,
   "metadata": {
    "trusted": true
   },
   "outputs": [],
   "source": []
  },
  {
   "cell_type": "code",
   "execution_count": null,
   "metadata": {
    "trusted": true
   },
   "outputs": [],
   "source": []
  },
  {
   "cell_type": "markdown",
   "metadata": {},
   "source": [
    "# Question # 2 Word Completion using LSTM:"
   ]
  },
  {
   "cell_type": "code",
   "execution_count": 2,
   "metadata": {
    "execution": {
     "iopub.execute_input": "2025-03-16T10:15:43.654112Z",
     "iopub.status.busy": "2025-03-16T10:15:43.653782Z",
     "iopub.status.idle": "2025-03-16T10:15:53.326990Z",
     "shell.execute_reply": "2025-03-16T10:15:53.325967Z",
     "shell.execute_reply.started": "2025-03-16T10:15:43.654088Z"
    },
    "trusted": true
   },
   "outputs": [],
   "source": [
    "import pandas as pd\n",
    "import numpy as np\n",
    "import re, string, os\n",
    "from tensorflow.keras.preprocessing.text import Tokenizer\n",
    "from tensorflow.keras.preprocessing.sequence import pad_sequences\n",
    "from tensorflow.keras.models import Sequential\n",
    "from tensorflow.keras.layers import Embedding, LSTM, Dense, Dropout\n",
    "from tensorflow.keras.utils import to_categorical\n",
    "from sklearn.model_selection import train_test_split\n",
    "\n",
    "\n",
    "df = pd.read_csv('/kaggle/input/shakespeare-plays/Shakespeare_data.csv')  \n",
    "\n",
    "text_data = df.iloc[:, 5].tolist()"
   ]
  },
  {
   "cell_type": "code",
   "execution_count": 3,
   "metadata": {
    "execution": {
     "iopub.execute_input": "2025-03-16T10:15:53.328686Z",
     "iopub.status.busy": "2025-03-16T10:15:53.328311Z",
     "iopub.status.idle": "2025-03-16T10:15:54.110397Z",
     "shell.execute_reply": "2025-03-16T10:15:54.109606Z",
     "shell.execute_reply.started": "2025-03-16T10:15:53.328653Z"
    },
    "trusted": true
   },
   "outputs": [],
   "source": [
    "def clean_text(text):\n",
    "    \"\"\"Lowercase, removing punctuation, and extra whitespace.\"\"\"\n",
    "    text = text.lower()\n",
    "    text = re.sub(f\"[{re.escape(string.punctuation)}]\", \"\", text)\n",
    "    text = re.sub(r'\\s+', ' ', text).strip()\n",
    "    return text\n",
    "\n",
    "\n",
    "cleaned_texts = [clean_text(line) for line in text_data]\n",
    "corpus = \" \".join(cleaned_texts)"
   ]
  },
  {
   "cell_type": "code",
   "execution_count": 4,
   "metadata": {
    "execution": {
     "iopub.execute_input": "2025-03-16T10:15:54.112144Z",
     "iopub.status.busy": "2025-03-16T10:15:54.111816Z",
     "iopub.status.idle": "2025-03-16T10:15:54.592686Z",
     "shell.execute_reply": "2025-03-16T10:15:54.591931Z",
     "shell.execute_reply.started": "2025-03-16T10:15:54.112119Z"
    },
    "trusted": true
   },
   "outputs": [
    {
     "name": "stdout",
     "output_type": "stream",
     "text": [
      "Total words: 27382\n"
     ]
    }
   ],
   "source": [
    "# Tokenizing and Creating Sequences\n",
    "tokenizer = Tokenizer()\n",
    "tokenizer.fit_on_texts([corpus])\n",
    "total_words = len(tokenizer.word_index) + 1\n",
    "print(\"Total words:\", total_words)"
   ]
  },
  {
   "cell_type": "code",
   "execution_count": 5,
   "metadata": {
    "execution": {
     "iopub.execute_input": "2025-03-16T10:15:54.593762Z",
     "iopub.status.busy": "2025-03-16T10:15:54.593533Z",
     "iopub.status.idle": "2025-03-16T10:15:55.986059Z",
     "shell.execute_reply": "2025-03-16T10:15:55.985193Z",
     "shell.execute_reply.started": "2025-03-16T10:15:54.593733Z"
    },
    "trusted": true
   },
   "outputs": [
    {
     "name": "stdout",
     "output_type": "stream",
     "text": [
      "Number of sequences: 814638\n"
     ]
    }
   ],
   "source": [
    "# Making sequence length of 5 along with next word as target\n",
    "sequence_length = 5\n",
    "tokens = tokenizer.texts_to_sequences([corpus])[0]\n",
    "\n",
    "input_sequences = []\n",
    "for i in range(sequence_length, len(tokens)):\n",
    "    n_gram_sequence = tokens[i-sequence_length:i+1]  \n",
    "    input_sequences.append(n_gram_sequence)\n",
    "\n",
    "print(\"Number of sequences:\", len(input_sequences))"
   ]
  },
  {
   "cell_type": "code",
   "execution_count": 6,
   "metadata": {
    "execution": {
     "iopub.execute_input": "2025-03-16T10:19:34.910499Z",
     "iopub.status.busy": "2025-03-16T10:19:34.910129Z",
     "iopub.status.idle": "2025-03-16T10:19:35.528244Z",
     "shell.execute_reply": "2025-03-16T10:19:35.527213Z",
     "shell.execute_reply.started": "2025-03-16T10:19:34.910472Z"
    },
    "trusted": true
   },
   "outputs": [],
   "source": [
    "input_sequences = np.array(input_sequences)\n",
    "\n",
    "X = input_sequences[:, :-1]  \n",
    "y = input_sequences[:, -1]   \n",
    "\n",
    "X_train, X_val, y_train, y_val = train_test_split(X, y, test_size=0.1, random_state=42)\n"
   ]
  },
  {
   "cell_type": "code",
   "execution_count": null,
   "metadata": {
    "execution": {
     "execution_failed": "2025-03-16T18:41:08.662Z",
     "iopub.execute_input": "2025-03-16T12:36:22.697807Z",
     "iopub.status.busy": "2025-03-16T12:36:22.697422Z"
    },
    "trusted": true
   },
   "outputs": [
    {
     "name": "stdout",
     "output_type": "stream",
     "text": [
      "Epoch 1/50\n",
      "\u001b[1m22912/22912\u001b[0m \u001b[32m━━━━━━━━━━━━━━━━━━━━\u001b[0m\u001b[37m\u001b[0m \u001b[1m338s\u001b[0m 15ms/step - accuracy: 0.0517 - loss: 6.8120 - val_accuracy: 0.0921 - val_loss: 6.2583\n",
      "Epoch 2/50\n",
      "\u001b[1m22912/22912\u001b[0m \u001b[32m━━━━━━━━━━━━━━━━━━━━\u001b[0m\u001b[37m\u001b[0m \u001b[1m335s\u001b[0m 15ms/step - accuracy: 0.0959 - loss: 6.0864 - val_accuracy: 0.1016 - val_loss: 6.1280\n",
      "Epoch 3/50\n",
      "\u001b[1m22912/22912\u001b[0m \u001b[32m━━━━━━━━━━━━━━━━━━━━\u001b[0m\u001b[37m\u001b[0m \u001b[1m335s\u001b[0m 15ms/step - accuracy: 0.1062 - loss: 5.8784 - val_accuracy: 0.1073 - val_loss: 6.1071\n",
      "Epoch 4/50\n",
      "\u001b[1m22912/22912\u001b[0m \u001b[32m━━━━━━━━━━━━━━━━━━━━\u001b[0m\u001b[37m\u001b[0m \u001b[1m335s\u001b[0m 15ms/step - accuracy: 0.1142 - loss: 5.7445 - val_accuracy: 0.1096 - val_loss: 6.0986\n",
      "Epoch 5/50\n",
      "\u001b[1m22912/22912\u001b[0m \u001b[32m━━━━━━━━━━━━━━━━━━━━\u001b[0m\u001b[37m\u001b[0m \u001b[1m335s\u001b[0m 15ms/step - accuracy: 0.1206 - loss: 5.6214 - val_accuracy: 0.1110 - val_loss: 6.1194\n",
      "Epoch 6/50\n",
      "\u001b[1m22912/22912\u001b[0m \u001b[32m━━━━━━━━━━━━━━━━━━━━\u001b[0m\u001b[37m\u001b[0m \u001b[1m335s\u001b[0m 15ms/step - accuracy: 0.1236 - loss: 5.5321 - val_accuracy: 0.1117 - val_loss: 6.1372\n",
      "Epoch 7/50\n",
      "\u001b[1m22912/22912\u001b[0m \u001b[32m━━━━━━━━━━━━━━━━━━━━\u001b[0m\u001b[37m\u001b[0m \u001b[1m335s\u001b[0m 15ms/step - accuracy: 0.1309 - loss: 5.4338 - val_accuracy: 0.1107 - val_loss: 6.1798\n",
      "Epoch 8/50\n",
      "\u001b[1m22912/22912\u001b[0m \u001b[32m━━━━━━━━━━━━━━━━━━━━\u001b[0m\u001b[37m\u001b[0m \u001b[1m335s\u001b[0m 15ms/step - accuracy: 0.1346 - loss: 5.3600 - val_accuracy: 0.1100 - val_loss: 6.2156\n",
      "Epoch 9/50\n",
      "\u001b[1m22912/22912\u001b[0m \u001b[32m━━━━━━━━━━━━━━━━━━━━\u001b[0m\u001b[37m\u001b[0m \u001b[1m335s\u001b[0m 15ms/step - accuracy: 0.1395 - loss: 5.2846 - val_accuracy: 0.1108 - val_loss: 6.2461\n",
      "Epoch 10/50\n",
      "\u001b[1m22912/22912\u001b[0m \u001b[32m━━━━━━━━━━━━━━━━━━━━\u001b[0m\u001b[37m\u001b[0m \u001b[1m335s\u001b[0m 15ms/step - accuracy: 0.1442 - loss: 5.2244 - val_accuracy: 0.1096 - val_loss: 6.3040\n",
      "Epoch 11/50\n",
      "\u001b[1m22912/22912\u001b[0m \u001b[32m━━━━━━━━━━━━━━━━━━━━\u001b[0m\u001b[37m\u001b[0m \u001b[1m335s\u001b[0m 15ms/step - accuracy: 0.1486 - loss: 5.1734 - val_accuracy: 0.1070 - val_loss: 6.3414\n",
      "Epoch 12/50\n",
      "\u001b[1m22912/22912\u001b[0m \u001b[32m━━━━━━━━━━━━━━━━━━━━\u001b[0m\u001b[37m\u001b[0m \u001b[1m335s\u001b[0m 15ms/step - accuracy: 0.1537 - loss: 5.1216 - val_accuracy: 0.1065 - val_loss: 6.4128\n",
      "Epoch 13/50\n",
      "\u001b[1m22912/22912\u001b[0m \u001b[32m━━━━━━━━━━━━━━━━━━━━\u001b[0m\u001b[37m\u001b[0m \u001b[1m335s\u001b[0m 15ms/step - accuracy: 0.1572 - loss: 5.0705 - val_accuracy: 0.1077 - val_loss: 6.4418\n",
      "Epoch 14/50\n",
      "\u001b[1m22912/22912\u001b[0m \u001b[32m━━━━━━━━━━━━━━━━━━━━\u001b[0m\u001b[37m\u001b[0m \u001b[1m334s\u001b[0m 15ms/step - accuracy: 0.1610 - loss: 5.0197 - val_accuracy: 0.1047 - val_loss: 6.4839\n",
      "Epoch 15/50\n",
      "\u001b[1m22912/22912\u001b[0m \u001b[32m━━━━━━━━━━━━━━━━━━━━\u001b[0m\u001b[37m\u001b[0m \u001b[1m335s\u001b[0m 15ms/step - accuracy: 0.1648 - loss: 4.9831 - val_accuracy: 0.1060 - val_loss: 6.5365\n",
      "Epoch 16/50\n",
      "\u001b[1m22912/22912\u001b[0m \u001b[32m━━━━━━━━━━━━━━━━━━━━\u001b[0m\u001b[37m\u001b[0m \u001b[1m335s\u001b[0m 15ms/step - accuracy: 0.1683 - loss: 4.9439 - val_accuracy: 0.1043 - val_loss: 6.5956\n",
      "Epoch 17/50\n",
      "\u001b[1m22912/22912\u001b[0m \u001b[32m━━━━━━━━━━━━━━━━━━━━\u001b[0m\u001b[37m\u001b[0m \u001b[1m335s\u001b[0m 15ms/step - accuracy: 0.1709 - loss: 4.9157 - val_accuracy: 0.1055 - val_loss: 6.6292\n",
      "Epoch 18/50\n",
      "\u001b[1m22912/22912\u001b[0m \u001b[32m━━━━━━━━━━━━━━━━━━━━\u001b[0m\u001b[37m\u001b[0m \u001b[1m335s\u001b[0m 15ms/step - accuracy: 0.1746 - loss: 4.8790 - val_accuracy: 0.1039 - val_loss: 6.6829\n",
      "Epoch 19/50\n",
      "\u001b[1m22912/22912\u001b[0m \u001b[32m━━━━━━━━━━━━━━━━━━━━\u001b[0m\u001b[37m\u001b[0m \u001b[1m335s\u001b[0m 15ms/step - accuracy: 0.1759 - loss: 4.8707 - val_accuracy: 0.1025 - val_loss: 6.7188\n",
      "Epoch 20/50\n",
      "\u001b[1m22912/22912\u001b[0m \u001b[32m━━━━━━━━━━━━━━━━━━━━\u001b[0m\u001b[37m\u001b[0m \u001b[1m335s\u001b[0m 15ms/step - accuracy: 0.1801 - loss: 4.8339 - val_accuracy: 0.1022 - val_loss: 6.7949\n",
      "Epoch 21/50\n",
      "\u001b[1m22912/22912\u001b[0m \u001b[32m━━━━━━━━━━━━━━━━━━━━\u001b[0m\u001b[37m\u001b[0m \u001b[1m335s\u001b[0m 15ms/step - accuracy: 0.1807 - loss: 4.8100 - val_accuracy: 0.1010 - val_loss: 6.8305\n",
      "Epoch 22/50\n",
      "\u001b[1m22912/22912\u001b[0m \u001b[32m━━━━━━━━━━━━━━━━━━━━\u001b[0m\u001b[37m\u001b[0m \u001b[1m334s\u001b[0m 15ms/step - accuracy: 0.1846 - loss: 4.7871 - val_accuracy: 0.1033 - val_loss: 6.8853\n",
      "Epoch 23/50\n",
      "\u001b[1m22912/22912\u001b[0m \u001b[32m━━━━━━━━━━━━━━━━━━━━\u001b[0m\u001b[37m\u001b[0m \u001b[1m334s\u001b[0m 15ms/step - accuracy: 0.1864 - loss: 4.7734 - val_accuracy: 0.1002 - val_loss: 6.8947\n",
      "Epoch 24/50\n",
      "\u001b[1m22912/22912\u001b[0m \u001b[32m━━━━━━━━━━━━━━━━━━━━\u001b[0m\u001b[37m\u001b[0m \u001b[1m334s\u001b[0m 15ms/step - accuracy: 0.1885 - loss: 4.7445 - val_accuracy: 0.0994 - val_loss: 6.9448\n",
      "Epoch 25/50\n",
      "\u001b[1m22912/22912\u001b[0m \u001b[32m━━━━━━━━━━━━━━━━━━━━\u001b[0m\u001b[37m\u001b[0m \u001b[1m334s\u001b[0m 15ms/step - accuracy: 0.1895 - loss: 4.7318 - val_accuracy: 0.0975 - val_loss: 6.9819\n",
      "Epoch 26/50\n",
      "\u001b[1m22912/22912\u001b[0m \u001b[32m━━━━━━━━━━━━━━━━━━━━\u001b[0m\u001b[37m\u001b[0m \u001b[1m334s\u001b[0m 15ms/step - accuracy: 0.1919 - loss: 4.7167 - val_accuracy: 0.0997 - val_loss: 7.0198\n",
      "Epoch 27/50\n",
      "\u001b[1m22912/22912\u001b[0m \u001b[32m━━━━━━━━━━━━━━━━━━━━\u001b[0m\u001b[37m\u001b[0m \u001b[1m334s\u001b[0m 15ms/step - accuracy: 0.1941 - loss: 4.7042 - val_accuracy: 0.0983 - val_loss: 7.0829\n",
      "Epoch 28/50\n",
      "\u001b[1m22912/22912\u001b[0m \u001b[32m━━━━━━━━━━━━━━━━━━━━\u001b[0m\u001b[37m\u001b[0m \u001b[1m334s\u001b[0m 15ms/step - accuracy: 0.1961 - loss: 4.6768 - val_accuracy: 0.0979 - val_loss: 7.0860\n",
      "Epoch 29/50\n",
      "\u001b[1m22912/22912\u001b[0m \u001b[32m━━━━━━━━━━━━━━━━━━━━\u001b[0m\u001b[37m\u001b[0m \u001b[1m334s\u001b[0m 15ms/step - accuracy: 0.1974 - loss: 4.6636 - val_accuracy: 0.0981 - val_loss: 7.1066\n",
      "Epoch 30/50\n",
      "\u001b[1m22912/22912\u001b[0m \u001b[32m━━━━━━━━━━━━━━━━━━━━\u001b[0m\u001b[37m\u001b[0m \u001b[1m334s\u001b[0m 15ms/step - accuracy: 0.1992 - loss: 4.6456 - val_accuracy: 0.1000 - val_loss: 7.1457\n",
      "Epoch 31/50\n",
      "\u001b[1m22912/22912\u001b[0m \u001b[32m━━━━━━━━━━━━━━━━━━━━\u001b[0m\u001b[37m\u001b[0m \u001b[1m334s\u001b[0m 15ms/step - accuracy: 0.2001 - loss: 4.6364 - val_accuracy: 0.0961 - val_loss: 7.1962\n",
      "Epoch 32/50\n",
      "\u001b[1m22912/22912\u001b[0m \u001b[32m━━━━━━━━━━━━━━━━━━━━\u001b[0m\u001b[37m\u001b[0m \u001b[1m334s\u001b[0m 15ms/step - accuracy: 0.2012 - loss: 4.6231 - val_accuracy: 0.0961 - val_loss: 7.1684\n",
      "Epoch 33/50\n",
      "\u001b[1m22912/22912\u001b[0m \u001b[32m━━━━━━━━━━━━━━━━━━━━\u001b[0m\u001b[37m\u001b[0m \u001b[1m334s\u001b[0m 15ms/step - accuracy: 0.2028 - loss: 4.6067 - val_accuracy: 0.0952 - val_loss: 7.1999\n",
      "Epoch 34/50\n",
      "\u001b[1m22912/22912\u001b[0m \u001b[32m━━━━━━━━━━━━━━━━━━━━\u001b[0m\u001b[37m\u001b[0m \u001b[1m334s\u001b[0m 15ms/step - accuracy: 0.2044 - loss: 4.5916 - val_accuracy: 0.0963 - val_loss: 7.2186\n",
      "Epoch 35/50\n",
      "\u001b[1m22912/22912\u001b[0m \u001b[32m━━━━━━━━━━━━━━━━━━━━\u001b[0m\u001b[37m\u001b[0m \u001b[1m334s\u001b[0m 15ms/step - accuracy: 0.2057 - loss: 4.5800 - val_accuracy: 0.0968 - val_loss: 7.2434\n",
      "Epoch 36/50\n",
      "\u001b[1m22912/22912\u001b[0m \u001b[32m━━━━━━━━━━━━━━━━━━━━\u001b[0m\u001b[37m\u001b[0m \u001b[1m334s\u001b[0m 15ms/step - accuracy: 0.2073 - loss: 4.5674 - val_accuracy: 0.0952 - val_loss: 7.2618\n",
      "Epoch 37/50\n",
      "\u001b[1m22912/22912\u001b[0m \u001b[32m━━━━━━━━━━━━━━━━━━━━\u001b[0m\u001b[37m\u001b[0m \u001b[1m334s\u001b[0m 15ms/step - accuracy: 0.2095 - loss: 4.5455 - val_accuracy: 0.0943 - val_loss: 7.2997\n",
      "Epoch 38/50\n",
      "\u001b[1m22912/22912\u001b[0m \u001b[32m━━━━━━━━━━━━━━━━━━━━\u001b[0m\u001b[37m\u001b[0m \u001b[1m334s\u001b[0m 15ms/step - accuracy: 0.2096 - loss: 4.5515 - val_accuracy: 0.0943 - val_loss: 7.3693\n",
      "Epoch 39/50\n",
      "\u001b[1m22912/22912\u001b[0m \u001b[32m━━━━━━━━━━━━━━━━━━━━\u001b[0m\u001b[37m\u001b[0m \u001b[1m334s\u001b[0m 15ms/step - accuracy: 0.2112 - loss: 4.5353 - val_accuracy: 0.0949 - val_loss: 7.3332\n",
      "Epoch 40/50\n",
      "\u001b[1m22912/22912\u001b[0m \u001b[32m━━━━━━━━━━━━━━━━━━━━\u001b[0m\u001b[37m\u001b[0m \u001b[1m334s\u001b[0m 15ms/step - accuracy: 0.2133 - loss: 4.5210 - val_accuracy: 0.0960 - val_loss: 7.3989\n",
      "Epoch 41/50\n",
      "\u001b[1m22912/22912\u001b[0m \u001b[32m━━━━━━━━━━━━━━━━━━━━\u001b[0m\u001b[37m\u001b[0m \u001b[1m334s\u001b[0m 15ms/step - accuracy: 0.2132 - loss: 4.5114 - val_accuracy: 0.0941 - val_loss: 7.4214\n",
      "Epoch 42/50\n",
      "\u001b[1m22912/22912\u001b[0m \u001b[32m━━━━━━━━━━━━━━━━━━━━\u001b[0m\u001b[37m\u001b[0m \u001b[1m334s\u001b[0m 15ms/step - accuracy: 0.2137 - loss: 4.5128 - val_accuracy: 0.0944 - val_loss: 7.4423\n",
      "Epoch 43/50\n",
      "\u001b[1m22912/22912\u001b[0m \u001b[32m━━━━━━━━━━━━━━━━━━━━\u001b[0m\u001b[37m\u001b[0m \u001b[1m335s\u001b[0m 15ms/step - accuracy: 0.2155 - loss: 4.5006 - val_accuracy: 0.0937 - val_loss: 7.4346\n",
      "Epoch 44/50\n",
      "\u001b[1m22912/22912\u001b[0m \u001b[32m━━━━━━━━━━━━━━━━━━━━\u001b[0m\u001b[37m\u001b[0m \u001b[1m334s\u001b[0m 15ms/step - accuracy: 0.2158 - loss: 4.4916 - val_accuracy: 0.0932 - val_loss: 7.4473\n",
      "Epoch 45/50\n",
      "\u001b[1m22912/22912\u001b[0m \u001b[32m━━━━━━━━━━━━━━━━━━━━\u001b[0m\u001b[37m\u001b[0m \u001b[1m334s\u001b[0m 15ms/step - accuracy: 0.2163 - loss: 4.4817 - val_accuracy: 0.0932 - val_loss: 7.4746\n",
      "Epoch 46/50\n",
      "\u001b[1m 1913/22912\u001b[0m \u001b[32m━\u001b[0m\u001b[37m━━━━━━━━━━━━━━━━━━━\u001b[0m \u001b[1m4:47\u001b[0m 14ms/step - accuracy: 0.2253 - loss: 4.3765"
     ]
    }
   ],
   "source": [
    "# LSTM Model Architecture\n",
    "embedding_dim = 100\n",
    "\n",
    "model = Sequential([\n",
    "    Embedding(input_dim=total_words, output_dim=embedding_dim, input_length=sequence_length),\n",
    "    LSTM(128, return_sequences=True),\n",
    "    Dropout(0.2),\n",
    "    LSTM(128),\n",
    "    Dense(total_words, activation='softmax')\n",
    "])\n",
    "\n",
    "# Using sparse categorical crossentropy \n",
    "model.compile(optimizer='adam', loss='sparse_categorical_crossentropy', metrics=['accuracy'])\n",
    "# model.summary()\n",
    "\n",
    "history = model.fit(X_train, y_train, epochs=50, validation_data=(X_val, y_val))\n",
    "\n",
    "model.save(\"word_completion_lstm50.h5\")\n",
    "\n",
    "import pickle\n",
    "with open('tokenizer50.pkl', 'wb') as f:\n",
    "    pickle.dump(tokenizer, f)"
   ]
  },
  {
   "cell_type": "code",
   "execution_count": 20,
   "metadata": {
    "execution": {
     "iopub.execute_input": "2025-03-16T12:32:06.407683Z",
     "iopub.status.busy": "2025-03-16T12:32:06.407309Z",
     "iopub.status.idle": "2025-03-16T12:32:06.425760Z",
     "shell.execute_reply": "2025-03-16T12:32:06.425103Z",
     "shell.execute_reply.started": "2025-03-16T12:32:06.407657Z"
    },
    "trusted": true
   },
   "outputs": [
    {
     "data": {
      "text/html": [
       "<pre style=\"white-space:pre;overflow-x:auto;line-height:normal;font-family:Menlo,'DejaVu Sans Mono',consolas,'Courier New',monospace\"><span style=\"font-weight: bold\">Model: \"sequential_1\"</span>\n",
       "</pre>\n"
      ],
      "text/plain": [
       "\u001b[1mModel: \"sequential_1\"\u001b[0m\n"
      ]
     },
     "metadata": {},
     "output_type": "display_data"
    },
    {
     "data": {
      "text/html": [
       "<pre style=\"white-space:pre;overflow-x:auto;line-height:normal;font-family:Menlo,'DejaVu Sans Mono',consolas,'Courier New',monospace\">┏━━━━━━━━━━━━━━━━━━━━━━━━━━━━━━━━━━━━━━┳━━━━━━━━━━━━━━━━━━━━━━━━━━━━━┳━━━━━━━━━━━━━━━━━┓\n",
       "┃<span style=\"font-weight: bold\"> Layer (type)                         </span>┃<span style=\"font-weight: bold\"> Output Shape                </span>┃<span style=\"font-weight: bold\">         Param # </span>┃\n",
       "┡━━━━━━━━━━━━━━━━━━━━━━━━━━━━━━━━━━━━━━╇━━━━━━━━━━━━━━━━━━━━━━━━━━━━━╇━━━━━━━━━━━━━━━━━┩\n",
       "│ embedding_1 (<span style=\"color: #0087ff; text-decoration-color: #0087ff\">Embedding</span>)              │ (<span style=\"color: #00d7ff; text-decoration-color: #00d7ff\">None</span>, <span style=\"color: #00af00; text-decoration-color: #00af00\">5</span>, <span style=\"color: #00af00; text-decoration-color: #00af00\">100</span>)              │       <span style=\"color: #00af00; text-decoration-color: #00af00\">2,738,200</span> │\n",
       "├──────────────────────────────────────┼─────────────────────────────┼─────────────────┤\n",
       "│ lstm_2 (<span style=\"color: #0087ff; text-decoration-color: #0087ff\">LSTM</span>)                        │ (<span style=\"color: #00d7ff; text-decoration-color: #00d7ff\">None</span>, <span style=\"color: #00af00; text-decoration-color: #00af00\">5</span>, <span style=\"color: #00af00; text-decoration-color: #00af00\">128</span>)              │         <span style=\"color: #00af00; text-decoration-color: #00af00\">117,248</span> │\n",
       "├──────────────────────────────────────┼─────────────────────────────┼─────────────────┤\n",
       "│ dropout_1 (<span style=\"color: #0087ff; text-decoration-color: #0087ff\">Dropout</span>)                  │ (<span style=\"color: #00d7ff; text-decoration-color: #00d7ff\">None</span>, <span style=\"color: #00af00; text-decoration-color: #00af00\">5</span>, <span style=\"color: #00af00; text-decoration-color: #00af00\">128</span>)              │               <span style=\"color: #00af00; text-decoration-color: #00af00\">0</span> │\n",
       "├──────────────────────────────────────┼─────────────────────────────┼─────────────────┤\n",
       "│ lstm_3 (<span style=\"color: #0087ff; text-decoration-color: #0087ff\">LSTM</span>)                        │ (<span style=\"color: #00d7ff; text-decoration-color: #00d7ff\">None</span>, <span style=\"color: #00af00; text-decoration-color: #00af00\">128</span>)                 │         <span style=\"color: #00af00; text-decoration-color: #00af00\">131,584</span> │\n",
       "├──────────────────────────────────────┼─────────────────────────────┼─────────────────┤\n",
       "│ dense_1 (<span style=\"color: #0087ff; text-decoration-color: #0087ff\">Dense</span>)                      │ (<span style=\"color: #00d7ff; text-decoration-color: #00d7ff\">None</span>, <span style=\"color: #00af00; text-decoration-color: #00af00\">27382</span>)               │       <span style=\"color: #00af00; text-decoration-color: #00af00\">3,532,278</span> │\n",
       "└──────────────────────────────────────┴─────────────────────────────┴─────────────────┘\n",
       "</pre>\n"
      ],
      "text/plain": [
       "┏━━━━━━━━━━━━━━━━━━━━━━━━━━━━━━━━━━━━━━┳━━━━━━━━━━━━━━━━━━━━━━━━━━━━━┳━━━━━━━━━━━━━━━━━┓\n",
       "┃\u001b[1m \u001b[0m\u001b[1mLayer (type)                        \u001b[0m\u001b[1m \u001b[0m┃\u001b[1m \u001b[0m\u001b[1mOutput Shape               \u001b[0m\u001b[1m \u001b[0m┃\u001b[1m \u001b[0m\u001b[1m        Param #\u001b[0m\u001b[1m \u001b[0m┃\n",
       "┡━━━━━━━━━━━━━━━━━━━━━━━━━━━━━━━━━━━━━━╇━━━━━━━━━━━━━━━━━━━━━━━━━━━━━╇━━━━━━━━━━━━━━━━━┩\n",
       "│ embedding_1 (\u001b[38;5;33mEmbedding\u001b[0m)              │ (\u001b[38;5;45mNone\u001b[0m, \u001b[38;5;34m5\u001b[0m, \u001b[38;5;34m100\u001b[0m)              │       \u001b[38;5;34m2,738,200\u001b[0m │\n",
       "├──────────────────────────────────────┼─────────────────────────────┼─────────────────┤\n",
       "│ lstm_2 (\u001b[38;5;33mLSTM\u001b[0m)                        │ (\u001b[38;5;45mNone\u001b[0m, \u001b[38;5;34m5\u001b[0m, \u001b[38;5;34m128\u001b[0m)              │         \u001b[38;5;34m117,248\u001b[0m │\n",
       "├──────────────────────────────────────┼─────────────────────────────┼─────────────────┤\n",
       "│ dropout_1 (\u001b[38;5;33mDropout\u001b[0m)                  │ (\u001b[38;5;45mNone\u001b[0m, \u001b[38;5;34m5\u001b[0m, \u001b[38;5;34m128\u001b[0m)              │               \u001b[38;5;34m0\u001b[0m │\n",
       "├──────────────────────────────────────┼─────────────────────────────┼─────────────────┤\n",
       "│ lstm_3 (\u001b[38;5;33mLSTM\u001b[0m)                        │ (\u001b[38;5;45mNone\u001b[0m, \u001b[38;5;34m128\u001b[0m)                 │         \u001b[38;5;34m131,584\u001b[0m │\n",
       "├──────────────────────────────────────┼─────────────────────────────┼─────────────────┤\n",
       "│ dense_1 (\u001b[38;5;33mDense\u001b[0m)                      │ (\u001b[38;5;45mNone\u001b[0m, \u001b[38;5;34m27382\u001b[0m)               │       \u001b[38;5;34m3,532,278\u001b[0m │\n",
       "└──────────────────────────────────────┴─────────────────────────────┴─────────────────┘\n"
      ]
     },
     "metadata": {},
     "output_type": "display_data"
    },
    {
     "data": {
      "text/html": [
       "<pre style=\"white-space:pre;overflow-x:auto;line-height:normal;font-family:Menlo,'DejaVu Sans Mono',consolas,'Courier New',monospace\"><span style=\"font-weight: bold\"> Total params: </span><span style=\"color: #00af00; text-decoration-color: #00af00\">19,557,932</span> (74.61 MB)\n",
       "</pre>\n"
      ],
      "text/plain": [
       "\u001b[1m Total params: \u001b[0m\u001b[38;5;34m19,557,932\u001b[0m (74.61 MB)\n"
      ]
     },
     "metadata": {},
     "output_type": "display_data"
    },
    {
     "data": {
      "text/html": [
       "<pre style=\"white-space:pre;overflow-x:auto;line-height:normal;font-family:Menlo,'DejaVu Sans Mono',consolas,'Courier New',monospace\"><span style=\"font-weight: bold\"> Trainable params: </span><span style=\"color: #00af00; text-decoration-color: #00af00\">6,519,310</span> (24.87 MB)\n",
       "</pre>\n"
      ],
      "text/plain": [
       "\u001b[1m Trainable params: \u001b[0m\u001b[38;5;34m6,519,310\u001b[0m (24.87 MB)\n"
      ]
     },
     "metadata": {},
     "output_type": "display_data"
    },
    {
     "data": {
      "text/html": [
       "<pre style=\"white-space:pre;overflow-x:auto;line-height:normal;font-family:Menlo,'DejaVu Sans Mono',consolas,'Courier New',monospace\"><span style=\"font-weight: bold\"> Non-trainable params: </span><span style=\"color: #00af00; text-decoration-color: #00af00\">0</span> (0.00 B)\n",
       "</pre>\n"
      ],
      "text/plain": [
       "\u001b[1m Non-trainable params: \u001b[0m\u001b[38;5;34m0\u001b[0m (0.00 B)\n"
      ]
     },
     "metadata": {},
     "output_type": "display_data"
    },
    {
     "data": {
      "text/html": [
       "<pre style=\"white-space:pre;overflow-x:auto;line-height:normal;font-family:Menlo,'DejaVu Sans Mono',consolas,'Courier New',monospace\"><span style=\"font-weight: bold\"> Optimizer params: </span><span style=\"color: #00af00; text-decoration-color: #00af00\">13,038,622</span> (49.74 MB)\n",
       "</pre>\n"
      ],
      "text/plain": [
       "\u001b[1m Optimizer params: \u001b[0m\u001b[38;5;34m13,038,622\u001b[0m (49.74 MB)\n"
      ]
     },
     "metadata": {},
     "output_type": "display_data"
    }
   ],
   "source": [
    "model.summary()"
   ]
  },
  {
   "cell_type": "code",
   "execution_count": null,
   "metadata": {
    "trusted": true
   },
   "outputs": [],
   "source": []
  },
  {
   "cell_type": "code",
   "execution_count": null,
   "metadata": {
    "trusted": true
   },
   "outputs": [],
   "source": []
  },
  {
   "cell_type": "markdown",
   "metadata": {},
   "source": [
    "## Streamlit User Interface:"
   ]
  },
  {
   "cell_type": "code",
   "execution_count": null,
   "metadata": {
    "execution": {
     "iopub.execute_input": "2025-03-16T12:25:54.813197Z",
     "iopub.status.busy": "2025-03-16T12:25:54.812796Z",
     "iopub.status.idle": "2025-03-16T12:25:54.819730Z",
     "shell.execute_reply": "2025-03-16T12:25:54.818949Z",
     "shell.execute_reply.started": "2025-03-16T12:25:54.813169Z"
    },
    "trusted": true
   },
   "outputs": [
    {
     "name": "stdout",
     "output_type": "stream",
     "text": [
      "Writing streamlit_app.py\n"
     ]
    }
   ],
   "source": [
    "%%writefile streamlit_app.py\n",
    "\n",
    "import streamlit as st\n",
    "import numpy as np\n",
    "import pickle\n",
    "import re, string\n",
    "\n",
    "from tensorflow.keras.models import load_model\n",
    "from tensorflow.keras.preprocessing.sequence import pad_sequences\n",
    "\n",
    "\n",
    "model = load_model(\"/kaggle/working/word_completion_lstm.h5\")\n",
    "with open('/kaggle/working/tokenizer.pkl', 'rb') as f:\n",
    "    tokenizer = pickle.load(f)\n",
    "\n",
    "sequence_length = 5\n",
    "\n",
    "def clean_text(text):\n",
    "    \"\"\"Lowercase, removing punctuation, and extra whitespace.\"\"\"\n",
    "    text = text.lower()\n",
    "    text = re.sub(f\"[{re.escape(string.punctuation)}]\", \"\", text)\n",
    "    text = re.sub(r'\\s+', ' ', text).strip()\n",
    "    return text\n",
    "\n",
    "\n",
    "def predict_next_word(text):\n",
    "    \"\"\"Given a partial sentence, predicting the next word.\"\"\"\n",
    "    text_clean = clean_text(text)\n",
    "    \n",
    "    tokens = tokenizer.texts_to_sequences([text_clean])[0]\n",
    "    \n",
    "    # If user input is longer than sequence_length, considering only the last sequence_length words\n",
    "    tokens = tokens[-sequence_length:]\n",
    "    \n",
    "    # Padding sequence to match the required length\n",
    "    padded = pad_sequences([tokens], maxlen=sequence_length, padding='pre')\n",
    "    \n",
    "    predicted_probs = model.predict(padded)\n",
    "    predicted_index = np.argmax(predicted_probs, axis=1)[0]\n",
    "    \n",
    "    # Finding the word corresponding to predicted_index\n",
    "    for word, index in tokenizer.word_index.items():\n",
    "        if index == predicted_index:\n",
    "            return word\n",
    "    return \"\"\n",
    "\n",
    "\n",
    "# Streamlit Interface\n",
    "st.title(\"Word Completion using LSTM\")\n",
    "st.write(\"Type a partial sentence below, and the model will suggest the next word in real-time.\")\n",
    "\n",
    "user_input = st.text_input(\"Enter a partial sentence:\")\n",
    "\n",
    "if user_input:\n",
    "    next_word = predict_next_word(user_input)\n",
    "    st.write(\"### Suggested Next Word:\")\n",
    "    st.write(next_word)\n"
   ]
  },
  {
   "cell_type": "code",
   "execution_count": 15,
   "metadata": {
    "execution": {
     "iopub.execute_input": "2025-03-16T12:27:53.569568Z",
     "iopub.status.busy": "2025-03-16T12:27:53.569236Z",
     "iopub.status.idle": "2025-03-16T12:27:58.527639Z",
     "shell.execute_reply": "2025-03-16T12:27:58.526702Z",
     "shell.execute_reply.started": "2025-03-16T12:27:53.569538Z"
    },
    "trusted": true
   },
   "outputs": [
    {
     "name": "stdout",
     "output_type": "stream",
     "text": [
      "Collecting streamlit\n",
      "  Downloading streamlit-1.43.2-py2.py3-none-any.whl.metadata (8.9 kB)\n",
      "Requirement already satisfied: altair<6,>=4.0 in /usr/local/lib/python3.10/dist-packages (from streamlit) (5.5.0)\n",
      "Requirement already satisfied: blinker<2,>=1.0.0 in /usr/local/lib/python3.10/dist-packages (from streamlit) (1.9.0)\n",
      "Requirement already satisfied: cachetools<6,>=4.0 in /usr/local/lib/python3.10/dist-packages (from streamlit) (5.5.0)\n",
      "Requirement already satisfied: click<9,>=7.0 in /usr/local/lib/python3.10/dist-packages (from streamlit) (8.1.7)\n",
      "Requirement already satisfied: numpy<3,>=1.23 in /usr/local/lib/python3.10/dist-packages (from streamlit) (1.26.4)\n",
      "Requirement already satisfied: packaging<25,>=20 in /usr/local/lib/python3.10/dist-packages (from streamlit) (24.2)\n",
      "Requirement already satisfied: pandas<3,>=1.4.0 in /usr/local/lib/python3.10/dist-packages (from streamlit) (2.2.3)\n",
      "Requirement already satisfied: pillow<12,>=7.1.0 in /usr/local/lib/python3.10/dist-packages (from streamlit) (11.0.0)\n",
      "Requirement already satisfied: protobuf<6,>=3.20 in /usr/local/lib/python3.10/dist-packages (from streamlit) (3.20.3)\n",
      "Requirement already satisfied: pyarrow>=7.0 in /usr/local/lib/python3.10/dist-packages (from streamlit) (19.0.1)\n",
      "Requirement already satisfied: requests<3,>=2.27 in /usr/local/lib/python3.10/dist-packages (from streamlit) (2.32.3)\n",
      "Requirement already satisfied: tenacity<10,>=8.1.0 in /usr/local/lib/python3.10/dist-packages (from streamlit) (9.0.0)\n",
      "Requirement already satisfied: toml<2,>=0.10.1 in /usr/local/lib/python3.10/dist-packages (from streamlit) (0.10.2)\n",
      "Requirement already satisfied: typing-extensions<5,>=4.4.0 in /usr/local/lib/python3.10/dist-packages (from streamlit) (4.12.2)\n",
      "Requirement already satisfied: watchdog<7,>=2.1.5 in /usr/local/lib/python3.10/dist-packages (from streamlit) (6.0.0)\n",
      "Requirement already satisfied: gitpython!=3.1.19,<4,>=3.0.7 in /usr/local/lib/python3.10/dist-packages (from streamlit) (3.1.43)\n",
      "Collecting pydeck<1,>=0.8.0b4 (from streamlit)\n",
      "  Downloading pydeck-0.9.1-py2.py3-none-any.whl.metadata (4.1 kB)\n",
      "Requirement already satisfied: tornado<7,>=6.0.3 in /usr/local/lib/python3.10/dist-packages (from streamlit) (6.3.3)\n",
      "Requirement already satisfied: jinja2 in /usr/local/lib/python3.10/dist-packages (from altair<6,>=4.0->streamlit) (3.1.4)\n",
      "Requirement already satisfied: jsonschema>=3.0 in /usr/local/lib/python3.10/dist-packages (from altair<6,>=4.0->streamlit) (4.23.0)\n",
      "Requirement already satisfied: narwhals>=1.14.2 in /usr/local/lib/python3.10/dist-packages (from altair<6,>=4.0->streamlit) (1.18.4)\n",
      "Requirement already satisfied: gitdb<5,>=4.0.1 in /usr/local/lib/python3.10/dist-packages (from gitpython!=3.1.19,<4,>=3.0.7->streamlit) (4.0.11)\n",
      "Requirement already satisfied: mkl_fft in /usr/local/lib/python3.10/dist-packages (from numpy<3,>=1.23->streamlit) (1.3.8)\n",
      "Requirement already satisfied: mkl_random in /usr/local/lib/python3.10/dist-packages (from numpy<3,>=1.23->streamlit) (1.2.4)\n",
      "Requirement already satisfied: mkl_umath in /usr/local/lib/python3.10/dist-packages (from numpy<3,>=1.23->streamlit) (0.1.1)\n",
      "Requirement already satisfied: mkl in /usr/local/lib/python3.10/dist-packages (from numpy<3,>=1.23->streamlit) (2025.0.1)\n",
      "Requirement already satisfied: tbb4py in /usr/local/lib/python3.10/dist-packages (from numpy<3,>=1.23->streamlit) (2022.0.0)\n",
      "Requirement already satisfied: mkl-service in /usr/local/lib/python3.10/dist-packages (from numpy<3,>=1.23->streamlit) (2.4.1)\n",
      "Requirement already satisfied: python-dateutil>=2.8.2 in /usr/local/lib/python3.10/dist-packages (from pandas<3,>=1.4.0->streamlit) (2.9.0.post0)\n",
      "Requirement already satisfied: pytz>=2020.1 in /usr/local/lib/python3.10/dist-packages (from pandas<3,>=1.4.0->streamlit) (2025.1)\n",
      "Requirement already satisfied: tzdata>=2022.7 in /usr/local/lib/python3.10/dist-packages (from pandas<3,>=1.4.0->streamlit) (2025.1)\n",
      "Requirement already satisfied: charset-normalizer<4,>=2 in /usr/local/lib/python3.10/dist-packages (from requests<3,>=2.27->streamlit) (3.4.1)\n",
      "Requirement already satisfied: idna<4,>=2.5 in /usr/local/lib/python3.10/dist-packages (from requests<3,>=2.27->streamlit) (3.10)\n",
      "Requirement already satisfied: urllib3<3,>=1.21.1 in /usr/local/lib/python3.10/dist-packages (from requests<3,>=2.27->streamlit) (2.3.0)\n",
      "Requirement already satisfied: certifi>=2017.4.17 in /usr/local/lib/python3.10/dist-packages (from requests<3,>=2.27->streamlit) (2025.1.31)\n",
      "Requirement already satisfied: smmap<6,>=3.0.1 in /usr/local/lib/python3.10/dist-packages (from gitdb<5,>=4.0.1->gitpython!=3.1.19,<4,>=3.0.7->streamlit) (5.0.1)\n",
      "Requirement already satisfied: MarkupSafe>=2.0 in /usr/local/lib/python3.10/dist-packages (from jinja2->altair<6,>=4.0->streamlit) (3.0.2)\n",
      "Requirement already satisfied: attrs>=22.2.0 in /usr/local/lib/python3.10/dist-packages (from jsonschema>=3.0->altair<6,>=4.0->streamlit) (25.1.0)\n",
      "Requirement already satisfied: jsonschema-specifications>=2023.03.6 in /usr/local/lib/python3.10/dist-packages (from jsonschema>=3.0->altair<6,>=4.0->streamlit) (2024.10.1)\n",
      "Requirement already satisfied: referencing>=0.28.4 in /usr/local/lib/python3.10/dist-packages (from jsonschema>=3.0->altair<6,>=4.0->streamlit) (0.35.1)\n",
      "Requirement already satisfied: rpds-py>=0.7.1 in /usr/local/lib/python3.10/dist-packages (from jsonschema>=3.0->altair<6,>=4.0->streamlit) (0.22.3)\n",
      "Requirement already satisfied: six>=1.5 in /usr/local/lib/python3.10/dist-packages (from python-dateutil>=2.8.2->pandas<3,>=1.4.0->streamlit) (1.17.0)\n",
      "Requirement already satisfied: intel-openmp>=2024 in /usr/local/lib/python3.10/dist-packages (from mkl->numpy<3,>=1.23->streamlit) (2024.2.0)\n",
      "Requirement already satisfied: tbb==2022.* in /usr/local/lib/python3.10/dist-packages (from mkl->numpy<3,>=1.23->streamlit) (2022.0.0)\n",
      "Requirement already satisfied: tcmlib==1.* in /usr/local/lib/python3.10/dist-packages (from tbb==2022.*->mkl->numpy<3,>=1.23->streamlit) (1.2.0)\n",
      "Requirement already satisfied: intel-cmplr-lib-rt in /usr/local/lib/python3.10/dist-packages (from mkl_umath->numpy<3,>=1.23->streamlit) (2024.2.0)\n",
      "Requirement already satisfied: intel-cmplr-lib-ur==2024.2.0 in /usr/local/lib/python3.10/dist-packages (from intel-openmp>=2024->mkl->numpy<3,>=1.23->streamlit) (2024.2.0)\n",
      "Downloading streamlit-1.43.2-py2.py3-none-any.whl (9.7 MB)\n",
      "\u001b[2K   \u001b[90m━━━━━━━━━━━━━━━━━━━━━━━━━━━━━━━━━━━━━━━━\u001b[0m \u001b[32m9.7/9.7 MB\u001b[0m \u001b[31m60.9 MB/s\u001b[0m eta \u001b[36m0:00:00\u001b[0m00:01\u001b[0m00:01\u001b[0m\n",
      "\u001b[?25hDownloading pydeck-0.9.1-py2.py3-none-any.whl (6.9 MB)\n",
      "\u001b[2K   \u001b[90m━━━━━━━━━━━━━━━━━━━━━━━━━━━━━━━━━━━━━━━━\u001b[0m \u001b[32m6.9/6.9 MB\u001b[0m \u001b[31m92.7 MB/s\u001b[0m eta \u001b[36m0:00:00\u001b[0m:00:01\u001b[0m00:01\u001b[0m\n",
      "\u001b[?25hInstalling collected packages: pydeck, streamlit\n",
      "Successfully installed pydeck-0.9.1 streamlit-1.43.2\n"
     ]
    }
   ],
   "source": [
    "!pip install pyngrok\n",
    "!pip install streamlit"
   ]
  },
  {
   "cell_type": "code",
   "execution_count": 16,
   "metadata": {
    "execution": {
     "iopub.execute_input": "2025-03-16T12:28:33.788190Z",
     "iopub.status.busy": "2025-03-16T12:28:33.787807Z",
     "iopub.status.idle": "2025-03-16T12:28:34.099620Z",
     "shell.execute_reply": "2025-03-16T12:28:34.098578Z",
     "shell.execute_reply.started": "2025-03-16T12:28:33.788160Z"
    },
    "trusted": true
   },
   "outputs": [
    {
     "name": "stdout",
     "output_type": "stream",
     "text": [
      "Authtoken saved to configuration file: /root/.config/ngrok/ngrok.yml\n"
     ]
    }
   ],
   "source": [
    "!ngrok authtoken 2jb86JKOHKjdCaoHKnPIeqPbJJ9_6Zrx6tHZQeLacbEwNFuCQ"
   ]
  },
  {
   "cell_type": "code",
   "execution_count": 17,
   "metadata": {
    "execution": {
     "iopub.execute_input": "2025-03-16T12:28:34.878508Z",
     "iopub.status.busy": "2025-03-16T12:28:34.878180Z",
     "iopub.status.idle": "2025-03-16T12:28:34.917796Z",
     "shell.execute_reply": "2025-03-16T12:28:34.917048Z",
     "shell.execute_reply.started": "2025-03-16T12:28:34.878478Z"
    },
    "trusted": true
   },
   "outputs": [
    {
     "name": "stdout",
     "output_type": "stream",
     "text": [
      "Ngrok public URL: NgrokTunnel: \"https://5755-34-60-133-45.ngrok-free.app\" -> \"http://localhost:8000\"\n"
     ]
    }
   ],
   "source": [
    "from pyngrok import ngrok\n",
    "\n",
    "public_url = ngrok.connect(8000)\n",
    "\n",
    "print(\"Ngrok public URL:\", public_url)"
   ]
  },
  {
   "cell_type": "code",
   "execution_count": 18,
   "metadata": {
    "execution": {
     "iopub.execute_input": "2025-03-16T12:28:39.111860Z",
     "iopub.status.busy": "2025-03-16T12:28:39.111530Z",
     "iopub.status.idle": "2025-03-16T12:30:48.000990Z",
     "shell.execute_reply": "2025-03-16T12:30:48.000077Z",
     "shell.execute_reply.started": "2025-03-16T12:28:39.111816Z"
    },
    "trusted": true
   },
   "outputs": [
    {
     "name": "stdout",
     "output_type": "stream",
     "text": [
      "\n",
      "Collecting usage statistics. To deactivate, set browser.gatherUsageStats to false.\n",
      "\u001b[0m\n",
      "\u001b[0m\n",
      "\u001b[34m\u001b[1m  You can now view your Streamlit app in your browser.\u001b[0m\n",
      "\u001b[0m\n",
      "\u001b[34m  Local URL: \u001b[0m\u001b[1mhttp://localhost:8000\u001b[0m\n",
      "\u001b[34m  Network URL: \u001b[0m\u001b[1mhttp://172.19.2.2:8000\u001b[0m\n",
      "\u001b[34m  External URL: \u001b[0m\u001b[1mhttp://34.60.133.45:8000\u001b[0m\n",
      "\u001b[0m\n",
      "2025-03-16 12:28:52.480638: E external/local_xla/xla/stream_executor/cuda/cuda_fft.cc:485] Unable to register cuFFT factory: Attempting to register factory for plugin cuFFT when one has already been registered\n",
      "2025-03-16 12:28:52.509162: E external/local_xla/xla/stream_executor/cuda/cuda_dnn.cc:8454] Unable to register cuDNN factory: Attempting to register factory for plugin cuDNN when one has already been registered\n",
      "2025-03-16 12:28:52.517696: E external/local_xla/xla/stream_executor/cuda/cuda_blas.cc:1452] Unable to register cuBLAS factory: Attempting to register factory for plugin cuBLAS when one has already been registered\n",
      "WARNING: All log messages before absl::InitializeLog() is called are written to STDERR\n",
      "I0000 00:00:1742128135.111608    1344 cuda_executor.cc:1015] successful NUMA node read from SysFS had negative value (-1), but there must be at least one NUMA node, so returning NUMA node zero. See more at https://github.com/torvalds/linux/blob/v6.0/Documentation/ABI/testing/sysfs-bus-pci#L344-L355\n",
      "I0000 00:00:1742128135.111997    1344 cuda_executor.cc:1015] successful NUMA node read from SysFS had negative value (-1), but there must be at least one NUMA node, so returning NUMA node zero. See more at https://github.com/torvalds/linux/blob/v6.0/Documentation/ABI/testing/sysfs-bus-pci#L344-L355\n",
      "I0000 00:00:1742128135.205326    1344 cuda_executor.cc:1015] successful NUMA node read from SysFS had negative value (-1), but there must be at least one NUMA node, so returning NUMA node zero. See more at https://github.com/torvalds/linux/blob/v6.0/Documentation/ABI/testing/sysfs-bus-pci#L344-L355\n",
      "I0000 00:00:1742128135.205700    1344 cuda_executor.cc:1015] successful NUMA node read from SysFS had negative value (-1), but there must be at least one NUMA node, so returning NUMA node zero. See more at https://github.com/torvalds/linux/blob/v6.0/Documentation/ABI/testing/sysfs-bus-pci#L344-L355\n",
      "I0000 00:00:1742128135.205974    1344 cuda_executor.cc:1015] successful NUMA node read from SysFS had negative value (-1), but there must be at least one NUMA node, so returning NUMA node zero. See more at https://github.com/torvalds/linux/blob/v6.0/Documentation/ABI/testing/sysfs-bus-pci#L344-L355\n",
      "I0000 00:00:1742128135.206224    1344 cuda_executor.cc:1015] successful NUMA node read from SysFS had negative value (-1), but there must be at least one NUMA node, so returning NUMA node zero. See more at https://github.com/torvalds/linux/blob/v6.0/Documentation/ABI/testing/sysfs-bus-pci#L344-L355\n",
      "I0000 00:00:1742128135.368712    1344 cuda_executor.cc:1015] successful NUMA node read from SysFS had negative value (-1), but there must be at least one NUMA node, so returning NUMA node zero. See more at https://github.com/torvalds/linux/blob/v6.0/Documentation/ABI/testing/sysfs-bus-pci#L344-L355\n",
      "I0000 00:00:1742128135.369232    1344 cuda_executor.cc:1015] successful NUMA node read from SysFS had negative value (-1), but there must be at least one NUMA node, so returning NUMA node zero. See more at https://github.com/torvalds/linux/blob/v6.0/Documentation/ABI/testing/sysfs-bus-pci#L344-L355\n",
      "I0000 00:00:1742128135.369625    1344 cuda_executor.cc:1015] successful NUMA node read from SysFS had negative value (-1), but there must be at least one NUMA node, so returning NUMA node zero. See more at https://github.com/torvalds/linux/blob/v6.0/Documentation/ABI/testing/sysfs-bus-pci#L344-L355\n",
      "I0000 00:00:1742128135.369954    1344 cuda_executor.cc:1015] successful NUMA node read from SysFS had negative value (-1), but there must be at least one NUMA node, so returning NUMA node zero. See more at https://github.com/torvalds/linux/blob/v6.0/Documentation/ABI/testing/sysfs-bus-pci#L344-L355\n",
      "I0000 00:00:1742128135.370218    1344 cuda_executor.cc:1015] successful NUMA node read from SysFS had negative value (-1), but there must be at least one NUMA node, so returning NUMA node zero. See more at https://github.com/torvalds/linux/blob/v6.0/Documentation/ABI/testing/sysfs-bus-pci#L344-L355\n",
      "I0000 00:00:1742128135.370463    1344 cuda_executor.cc:1015] successful NUMA node read from SysFS had negative value (-1), but there must be at least one NUMA node, so returning NUMA node zero. See more at https://github.com/torvalds/linux/blob/v6.0/Documentation/ABI/testing/sysfs-bus-pci#L344-L355\n",
      "I0000 00:00:1742128135.390037    1344 cuda_executor.cc:1015] successful NUMA node read from SysFS had negative value (-1), but there must be at least one NUMA node, so returning NUMA node zero. See more at https://github.com/torvalds/linux/blob/v6.0/Documentation/ABI/testing/sysfs-bus-pci#L344-L355\n",
      "I0000 00:00:1742128135.390356    1344 cuda_executor.cc:1015] successful NUMA node read from SysFS had negative value (-1), but there must be at least one NUMA node, so returning NUMA node zero. See more at https://github.com/torvalds/linux/blob/v6.0/Documentation/ABI/testing/sysfs-bus-pci#L344-L355\n",
      "I0000 00:00:1742128135.390616    1344 cuda_executor.cc:1015] successful NUMA node read from SysFS had negative value (-1), but there must be at least one NUMA node, so returning NUMA node zero. See more at https://github.com/torvalds/linux/blob/v6.0/Documentation/ABI/testing/sysfs-bus-pci#L344-L355\n",
      "I0000 00:00:1742128135.390915    1344 cuda_executor.cc:1015] successful NUMA node read from SysFS had negative value (-1), but there must be at least one NUMA node, so returning NUMA node zero. See more at https://github.com/torvalds/linux/blob/v6.0/Documentation/ABI/testing/sysfs-bus-pci#L344-L355\n",
      "I0000 00:00:1742128135.391205    1344 cuda_executor.cc:1015] successful NUMA node read from SysFS had negative value (-1), but there must be at least one NUMA node, so returning NUMA node zero. See more at https://github.com/torvalds/linux/blob/v6.0/Documentation/ABI/testing/sysfs-bus-pci#L344-L355\n",
      "I0000 00:00:1742128135.391987    1344 cuda_executor.cc:1015] successful NUMA node read from SysFS had negative value (-1), but there must be at least one NUMA node, so returning NUMA node zero. See more at https://github.com/torvalds/linux/blob/v6.0/Documentation/ABI/testing/sysfs-bus-pci#L344-L355\n",
      "\u001b[1m1/1\u001b[0m \u001b[32m━━━━━━━━━━━━━━━━━━━━\u001b[0m\u001b[37m\u001b[0m \u001b[1m1s\u001b[0m 1s/step\n",
      "\u001b[1m1/1\u001b[0m \u001b[32m━━━━━━━━━━━━━━━━━━━━\u001b[0m\u001b[37m\u001b[0m \u001b[1m0s\u001b[0m 157ms/step\n",
      "\u001b[1m1/1\u001b[0m \u001b[32m━━━━━━━━━━━━━━━━━━━━\u001b[0m\u001b[37m\u001b[0m \u001b[1m0s\u001b[0m 175ms/step\n",
      "\u001b[1m1/1\u001b[0m \u001b[32m━━━━━━━━━━━━━━━━━━━━\u001b[0m\u001b[37m\u001b[0m \u001b[1m0s\u001b[0m 185ms/step\n",
      "^C\n",
      "\u001b[34m  Stopping...\u001b[0m\n"
     ]
    }
   ],
   "source": [
    "!streamlit run streamlit_app.py --server.port 8000"
   ]
  },
  {
   "cell_type": "code",
   "execution_count": null,
   "metadata": {
    "trusted": true
   },
   "outputs": [],
   "source": []
  }
 ],
 "metadata": {
  "kaggle": {
   "accelerator": "nvidiaTeslaT4",
   "dataSources": [
    {
     "datasetId": 107946,
     "sourceId": 262177,
     "sourceType": "datasetVersion"
    },
    {
     "datasetId": 1028,
     "sourceId": 2124,
     "sourceType": "datasetVersion"
    }
   ],
   "dockerImageVersionId": 30919,
   "isGpuEnabled": true,
   "isInternetEnabled": true,
   "language": "python",
   "sourceType": "notebook"
  },
  "kernelspec": {
   "display_name": "Python 3",
   "language": "python",
   "name": "python3"
  },
  "language_info": {
   "codemirror_mode": {
    "name": "ipython",
    "version": 3
   },
   "file_extension": ".py",
   "mimetype": "text/x-python",
   "name": "python",
   "nbconvert_exporter": "python",
   "pygments_lexer": "ipython3",
   "version": "3.10.12"
  }
 },
 "nbformat": 4,
 "nbformat_minor": 4
}
